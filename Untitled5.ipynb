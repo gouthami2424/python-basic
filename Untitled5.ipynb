{
 "cells": [
  {
   "cell_type": "markdown",
   "id": "660c30a6",
   "metadata": {},
   "source": [
    "# calculater"
   ]
  },
  {
   "cell_type": "code",
   "execution_count": 9,
   "id": "0a4328f8",
   "metadata": {},
   "outputs": [
    {
     "name": "stdout",
     "output_type": "stream",
     "text": [
      "enter a value5\n",
      "enter b value8\n",
      "enter a operations('+','-','*','%','/','//')*\n",
      "here we are performing multiplication operation 40\n"
     ]
    }
   ],
   "source": [
    "a = int(input(\"enter a value\"))\n",
    "b = int(input(\"enter b value\"))\n",
    "operations =input(\"enter a operations('+','-','*','%','/','//')\")\n",
    "\n",
    "if operations ==\"+\":\n",
    "    print(\"here we are performing addition\",a+b)\n",
    "elif operations ==\"-\":\n",
    "    print(\"here we are performing substraction operation\",a-b)\n",
    "elif operations ==\"*\":\n",
    "    print(\"here we are performing multiplication operation\",a*b)\n",
    "elif operations ==\"/\":\n",
    "    print(\"here we are performing division\",a/b)\n",
    "elif operations ==\"//\":\n",
    "    print(\"here we are performing division operation wiyh out decimal point\",a//b)\n",
    "elif operations ==\"%\":\n",
    "    print(\"here we are performing modular operation with out decimal point\",a%b)\n",
    "else:\n",
    "    print(\"please enter the valid operation\")\n",
    "        "
   ]
  },
  {
   "cell_type": "code",
   "execution_count": 10,
   "id": "c8fe3a1c",
   "metadata": {},
   "outputs": [
    {
     "name": "stdout",
     "output_type": "stream",
     "text": [
      "enter a value20\n",
      "enter b value11\n",
      "enter a operations('+','-','*','%','/','//')/\n",
      "here we are performing division 1.8181818181818181\n"
     ]
    }
   ],
   "source": [
    "a = int(input(\"enter a value\"))\n",
    "b = int(input(\"enter b value\"))\n",
    "operations =input(\"enter a operations('+','-','*','%','/','//')\")\n",
    "\n",
    "if operations ==\"+\":\n",
    "    print(\"here we are performing addition\",a+b)\n",
    "elif operations ==\"-\":\n",
    "    print(\"here we are performing substraction operation\",a-b)\n",
    "elif operations ==\"*\":\n",
    "    print(\"here we are performing multiplication operation\",a*b)\n",
    "elif operations ==\"/\":\n",
    "    print(\"here we are performing division\",a/b)\n",
    "elif operations ==\"//\":\n",
    "    print(\"here we are performing division operation wiyh out decimal point\",a//b)\n",
    "elif operations ==\"%\":\n",
    "    print(\"here we are performing modular operation with out decimal point\",a%b)\n",
    "else:\n",
    "    print(\"please enter the valid operation\")"
   ]
  },
  {
   "cell_type": "code",
   "execution_count": null,
   "id": "24d1ff91",
   "metadata": {},
   "outputs": [],
   "source": []
  }
 ],
 "metadata": {
  "kernelspec": {
   "display_name": "Python 3 (ipykernel)",
   "language": "python",
   "name": "python3"
  },
  "language_info": {
   "codemirror_mode": {
    "name": "ipython",
    "version": 3
   },
   "file_extension": ".py",
   "mimetype": "text/x-python",
   "name": "python",
   "nbconvert_exporter": "python",
   "pygments_lexer": "ipython3",
   "version": "3.10.9"
  }
 },
 "nbformat": 4,
 "nbformat_minor": 5
}
